{
 "cells": [
  {
   "cell_type": "code",
   "id": "initial_id",
   "metadata": {
    "collapsed": true,
    "ExecuteTime": {
     "end_time": "2024-12-02T23:53:48.973988Z",
     "start_time": "2024-12-02T23:53:48.904438Z"
    }
   },
   "source": [
    "import CoolProp.CoolProp as CP\n",
    "\n",
    "# Given data\n",
    "enthalpy = 2800  # Enthalpy in kJ/kg\n",
    "pressure = 5  # Pressure in bar\n",
    "\n",
    "# Convert pressure to Pa for CoolProp\n",
    "pressure_pa = pressure * 1e5\n",
    "\n",
    "# Use CoolProp to find temperature\n",
    "temperature = CP.PropsSI('T', 'P', pressure_pa, 'H', enthalpy * 1e3, 'Water')\n",
    "\n",
    "print(f\"Temperature of the vapor mixture: {temperature - 273.15:.2f} °C\")"
   ],
   "outputs": [
    {
     "name": "stdout",
     "output_type": "stream",
     "text": [
      "Temperature of the vapor mixture: 174.39 °C\n"
     ]
    }
   ],
   "execution_count": 3
  }
 ],
 "metadata": {
  "kernelspec": {
   "display_name": "Python 3",
   "language": "python",
   "name": "python3"
  },
  "language_info": {
   "codemirror_mode": {
    "name": "ipython",
    "version": 2
   },
   "file_extension": ".py",
   "mimetype": "text/x-python",
   "name": "python",
   "nbconvert_exporter": "python",
   "pygments_lexer": "ipython2",
   "version": "2.7.6"
  }
 },
 "nbformat": 4,
 "nbformat_minor": 5
}
